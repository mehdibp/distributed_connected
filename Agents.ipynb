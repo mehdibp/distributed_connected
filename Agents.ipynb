{
 "cells": [
  {
   "cell_type": "code",
   "execution_count": 1,
   "id": "49594bcf",
   "metadata": {},
   "outputs": [],
   "source": [
    "import Agent_Library\n",
    "from   Agent_Library import np, plt, Camera, tf, nx\n",
    "\n",
    "import random\n",
    "import pandas as pd\n",
    "from openpyxl import Workbook\n",
    "\n",
    "import importlib\n",
    "\n",
    "# import psutil\n",
    "# import cProfile, pstats\n",
    "# import snakeviz.cli as cli\n",
    "# %load_ext snakeviz"
   ]
  },
  {
   "cell_type": "code",
   "execution_count": 2,
   "id": "ce9e8e6b",
   "metadata": {},
   "outputs": [],
   "source": [
    "def Initializer(N, L, Alphas=[-0.5,0.1,0.2,-0.5], seed=42, requesting=False, moving=False, training=False):\n",
    "    importlib.reload(Agent_Library)\n",
    "    np.random.seed(seed)\n",
    "    random.seed(seed)\n",
    "    # -----------------------------------------------------------------------------------\n",
    "    camera = Camera(plt.figure(figsize=(15,15)))\n",
    "\n",
    "    # Build the environment and the agents ----------------------------------------------\n",
    "    Agents = []\n",
    "    for _ in range(N): \n",
    "        Agents.append(Agent_Library.Distributed_Agent(N, L, Alphas, requesting=requesting, moving=moving, training=training))\n",
    "    \n",
    "    environment = Agent_Library.Plot_Environment(L, Agents)\n",
    "\n",
    "    \n",
    "    return camera, environment, Agents"
   ]
  },
  {
   "cell_type": "code",
   "execution_count": 3,
   "id": "146b0121",
   "metadata": {},
   "outputs": [],
   "source": [
    "def ExportResults(step, environment, Agents, AveragedExcel, ParticleExcel):\n",
    "    environment.Environmental_Changes(Agents)\n",
    "    G = nx.from_numpy_array(environment.A)\n",
    "    Giant = sorted(nx.connected_components(G), key=len, reverse=True)\n",
    "     \n",
    "    # Show Averaged Results ---------------------------------------------------------------------\n",
    "    # step\tHamilton\tGiant\tEdges\tEnergy\tTau\tR_avg loss ----------------------------------\n",
    "    hamilton, edge, energy, average_r, giant, tau = environment.Calculate_Result(Agents, step)\n",
    "    loss = 0; \n",
    "    for i in range(len(Agents)): loss += Agents[i].loss.numpy()\n",
    "    AveragedExcel.append([step, hamilton, giant, edge, energy, tau, average_r, loss])\n",
    "\n",
    "\n",
    "    # Show Particle Results ---------------------------------------------------------------------\n",
    "    # step\tindex\tX\tY\tComponent\tr\tk\trho\tEnergy\tconnected_to ------------------------\n",
    "    # state   action  reward  next_state    loss ------------------------------------------------\n",
    "    for i in range(len(Agents)):\n",
    "        particle_hamilton = Agents[i].Hamiltonian()\n",
    "        particle_k, particle_r, particle_rho = Agents[i].MyState()\n",
    "        state, action, reward, next_state    = Agents[i].replay_memory[-1]\n",
    "\n",
    "        for j in range(len(Giant)):\n",
    "            if i in Giant[j]: component = j\n",
    "\n",
    "        co = []\n",
    "        for j in range(len(Agents)):\n",
    "            if environment.A[i][j] == 1: co.append(j) \n",
    "\n",
    "        ParticleExcel.append([step, i, Agents[i].x, Agents[i].y, component, \n",
    "                                particle_r, particle_k, particle_rho, particle_hamilton, str(co), \n",
    "                                str(state), action, reward, str(next_state), Agents[i].loss.numpy()])"
   ]
  },
  {
   "cell_type": "markdown",
   "id": "624f8231",
   "metadata": {},
   "source": [
    "# MAIN"
   ]
  },
  {
   "cell_type": "code",
   "execution_count": 4,
   "id": "efb1f817",
   "metadata": {},
   "outputs": [],
   "source": [
    "def base_model(seed, ParticleExcel, AveragedExcel):\n",
    "    N = 100                      # Number of agents\n",
    "    L = 14                       # The length of the simulation box\n",
    "    _, environment, Agents = Initializer(N, L, seed)\n",
    "\n",
    "    ParticleExcel_ = ParticleExcel.create_sheet(title=f'Base')\n",
    "    AveragedExcel_ = AveragedExcel.create_sheet(title=f'Base')\n",
    "    ParticleExcel_.append([\"step\", \"index\", \"X\", \"Y\", \"Component\", \"r\", \"k\", \"rho\", \"Hamilton\", \"connected to\"])\n",
    "    AveragedExcel_.append([\"step\", \"Hamilton\", \"Giant\", \"Edges\", \"Energy\", \"Tau\", \"R_avg\"])\n",
    "\n",
    "    for step in range(1001):\n",
    "        for i in range(len(Agents)):\n",
    "            Agents[i].N = len(Agents)\n",
    "            Agents[i].OtherAgents = (Agents[:i] + Agents[i+1:])\n",
    "            if Agents[i].k < 5: action = np.random.randint(2)\n",
    "            else: action = 0\n",
    "        \n",
    "            _, _ = Agents[i].step(action)\n",
    "\n",
    "\n",
    "        ExportResults(step, environment, Agents, AveragedExcel_, ParticleExcel_)\n",
    "            \n",
    "            \n",
    "        # -------------------------------------------------------------------------------------------\n",
    "        print(\"\\rSeed: {}, Step: {}\".format(seed, step), end=\"\")\n"
   ]
  },
  {
   "cell_type": "code",
   "execution_count": 5,
   "id": "18b3ee5b",
   "metadata": {},
   "outputs": [],
   "source": [
    "def AI_model(seed, Alphas, ParticleExcel, AveragedExcel, requesting):\n",
    "    N = 100                      # Number of agents\n",
    "    L = 45                       # The length of the simulation box\n",
    "    _, environment, Agents = Initializer(N, L, Alphas, seed, requesting=requesting, moving=True, training=True)\n",
    "\n",
    "\n",
    "    if requesting:  sheet_name = \"Send Request\"\n",
    "    else:           sheet_name = \"Just Model\"\n",
    "\n",
    "    ParticleExcel_ = ParticleExcel.create_sheet(title=sheet_name)\n",
    "    AveragedExcel_ = AveragedExcel.create_sheet(title=sheet_name)\n",
    "    ParticleExcel_.append([\"step\", \"index\", \"X\", \"Y\", \"Component\", \"r\", \"k\", \"rho\", \"Hamilton\", \"connected to\"\n",
    "                           , \"state\", \"action\", \"reward\", \"next_state\", \"loss\"])\n",
    "    AveragedExcel_.append([\"step\", \"Hamilton\", \"Giant\", \"Edges\", \"Energy\", \"Tau\", \"R_avg\", \"loss\"])\n",
    "\n",
    "\n",
    "    for step in range(1001):\n",
    "        for i in range(len(Agents)):\n",
    "            Agents[i].Prediction( (Agents[:i] + Agents[i+1:]) )\n",
    "\n",
    "        \n",
    "        # -------------------------------------------------------------------------------------------\n",
    "        ExportResults(step, environment, Agents, AveragedExcel_, ParticleExcel_)\n",
    "        print(\"\\rSeed: {}, Step: {}\".format(seed, step), end=\"\")\n"
   ]
  },
  {
   "cell_type": "code",
   "execution_count": null,
   "id": "ae9eda68",
   "metadata": {},
   "outputs": [],
   "source": [
    "for seed in range(34, 35):\n",
    "    \n",
    "    # ParticleExcel = pd.ExcelWriter(f\"./All result/csv/Particle data {seed}.xlsx\", engine='openpyxl')\n",
    "    # AveragedExcel = pd.ExcelWriter(f\"./All result/csv/Averaged data {seed}.xlsx\",  engine='openpyxl')\n",
    "    ParticleExcel = Workbook(); del ParticleExcel['Sheet']\n",
    "    AveragedExcel = Workbook(); del AveragedExcel['Sheet']\n",
    "\n",
    "    Alphas = [-0.5, +0.3, 1.0, -1000]\n",
    "\n",
    "    # df_base   = base_model(seed, ParticleExcel, AveragedExcel)       ;      print(\"  finish Base...\")\n",
    "    df_AI     =   AI_model(seed, Alphas, ParticleExcel, AveragedExcel, False);      print(\"  finish False...\") \n",
    "    df_AI_Req =   AI_model(seed, Alphas, ParticleExcel, AveragedExcel, True );      print(\"  finish True!\")\n",
    "    \n",
    "\n",
    "    ParticleExcel.save(f\"./All Results/Datas/data {seed}/{seed} Particle Data - Movement & Train 0.001 & alpha4=-1000.xlsx\")\n",
    "    AveragedExcel.save(f\"./All Results/Datas/data {seed}/{seed} Averaged Data - Movement & Train 0.001 & alpha4=-1000.xlsx\")\n",
    "\n",
    "    # ParticleExcel.close()\n",
    "    # AveragedExcel.close()\n",
    "    "
   ]
  },
  {
   "cell_type": "markdown",
   "id": "b5fbe073",
   "metadata": {},
   "source": [
    "# Learning Model"
   ]
  },
  {
   "cell_type": "code",
   "execution_count": 4,
   "id": "a8631ae0",
   "metadata": {},
   "outputs": [],
   "source": [
    "def Learning_Initializer(N, L, Alphas=[-0.5,0.1,0.2,-0.5], seed=42, requesting=False, moving=False, training=False):\n",
    "    importlib.reload(Agent_Library)\n",
    "    tf.random.set_seed(seed)\n",
    "    np.random.seed(seed)\n",
    "    random.seed(seed)\n",
    "    # ----------------------------------------------------------------------------------------\n",
    "    camera = Camera(plt.figure(figsize=(15,15)))\n",
    "\n",
    "    # Build the environment and the agents ---------------------------------------------------\n",
    "    Agents = []\n",
    "    for _ in range(N): \n",
    "        Agents.append(Agent_Library.Distributed_Agent(N, L, Alphas, requesting=requesting, moving=moving, training=training))\n",
    "    \n",
    "    environment = Agent_Library.Plot_Environment(L, Agents)\n",
    "\n",
    "    # Build Model ----------------------------------------------------------------------------\n",
    "    tf.keras.backend.clear_session()\n",
    "\n",
    "    inputs = tf.keras.layers.Input(shape=(3,), name='input') \n",
    "    x = tf.keras.layers.Dense(32, activation='elu', name='dense_1')(inputs) \n",
    "    x = tf.keras.layers.Dense(32, activation='elu', name='dense_2')(x) \n",
    "    outputs = tf.keras.layers.Dense(2, activation=Agents[0].custom_activation, name='output')(x) \n",
    "    model = tf.keras.models.Model(inputs=inputs, outputs=outputs)\n",
    "\n",
    "    for i in range(N): \n",
    "        Agents[i].model = model\n",
    "        Agents[i].OtherAgents = (Agents[:i] + Agents[i+1:])\n",
    "\n",
    "\n",
    "    # Exporte Files --------------------------------------------------------------------------\n",
    "    ParticleExcel = Workbook(); del ParticleExcel['Sheet']\n",
    "    AveragedExcel = Workbook(); del AveragedExcel['Sheet']\n",
    "    ParticleExcel_ = ParticleExcel.create_sheet(title=f'Learning')\n",
    "    AveragedExcel_ = AveragedExcel.create_sheet(title=f'Learning')\n",
    "    ParticleExcel_.append([\"step\", \"index\", \"X\", \"Y\", \"Component\", \"r\", \"k\", \"rho\", \"Hamilton\", \"connected to\"\n",
    "                           , \"state\", \"action\", \"reward\", \"next_state\", \"loss\", \"H2G2\"])\n",
    "    AveragedExcel_.append([\"step\", \"Hamilton\", \"Giant\", \"Edges\", \"Energy\", \"Tau\", \"R_avg\", \"loss\"])\n",
    "\n",
    "    # LogExcel  = Workbook(); del LogExcel['Sheet']\n",
    "    # LogExcel_ = LogExcel.create_sheet(title=f'Learning')\n",
    "    # LogExcel_.append([\"step\", \"index\", \"X\", \"Y\", \"r\", \"k\", \"rho\", \"Hamilton\", \"state\", \"action\", \"reward\", \"next_state\",\n",
    "    #                 \"all_Q_values\", \"Q_values\", \"next_Q_values\", \"target_Q_values\", \"loss\",\n",
    "    #                 \"g1\" , \"g2\", \"g3\", \"g4\", \"g5\" , \"g6\", \"var1\" , \"var2\", \"var3\", \"var4\", \"var5\" , \"var6\"])\n",
    "\n",
    "    \n",
    "    return camera, environment, Agents, AveragedExcel, AveragedExcel_, ParticleExcel, ParticleExcel_"
   ]
  },
  {
   "cell_type": "code",
   "execution_count": 5,
   "id": "37d33908",
   "metadata": {},
   "outputs": [],
   "source": [
    "def logPrint(step, i, Agents, Train_Values, LogExcel):\n",
    "\n",
    "    # Show Particle Results ------------------------------------------------------------------------\n",
    "    # step\tindex\tX\tY\tr\tk\trho\tHamiltonian ------------------------\n",
    "    # state   action  reward  next_state -----------------------------------------------------------\n",
    "    # all_Q_values  next_Q_values   Q_values    target_Q_values loss -------------------------------\n",
    "    \n",
    "    # for i in range(len(Agents)):\n",
    "    k, r, rho = Agents[i].MyState()\n",
    "    hamilton  = Agents[i].Hamiltonian()\n",
    "    state, action, reward, next_state = Agents[i].replay_memory[-1]\n",
    "\n",
    "    all_Q, Q, next_Q, target_Q, loss, grads, trainable_variables = Train_Values\n",
    "\n",
    "        \n",
    "    mat = [step, i, Agents[i].x, Agents[i].y, r, k, rho, hamilton, str(state), action, reward, str(next_state),\n",
    "            str(all_Q.numpy().ravel()), str(Q.numpy().ravel()), str(next_Q.numpy().ravel()), str(target_Q.ravel()), loss.numpy() ]\n",
    "    for grad     in grads:               mat.append(str(grad    .numpy().ravel()))\n",
    "    for variable in trainable_variables: mat.append(str(variable.numpy().ravel()))\n",
    "\n",
    "    \n",
    "    LogExcel.append(mat)\n"
   ]
  },
  {
   "cell_type": "code",
   "execution_count": 7,
   "id": "b6889fa4",
   "metadata": {},
   "outputs": [],
   "source": [
    "def Saving(path, ParticleExcel, AveragedExcel, H_best_weight, G_best_weight, H2G2_best_weight, last_weight, custom_activation):\n",
    "    inputs = tf.keras.layers.Input(shape=(3,), name='input') \n",
    "    x = tf.keras.layers.Dense(32, activation='elu', name='dense_1')(inputs) \n",
    "    x = tf.keras.layers.Dense(32, activation='elu', name='dense_2')(x) \n",
    "    outputs = tf.keras.layers.Dense(2, activation=custom_activation, name='output')(x) \n",
    "    model = tf.keras.models.Model(inputs=inputs, outputs=outputs)\n",
    "\n",
    "    ParticleExcel.save(f\"{path}/Particle Data -1000 L=45.xlsx\")\n",
    "    AveragedExcel.save(f\"{path}/Averaged Data -1000 L=45.xlsx\")\n",
    "    # LogExcel     .save(f\"{path}/Log Data.xlsx\")\n",
    "\n",
    "\n",
    "    model_H_best_weight    = model;    model_H_best_weight.set_weights(H_best_weight)\n",
    "    model_G_best_weight    = model;    model_G_best_weight.set_weights(G_best_weight)\n",
    "    model_H2G2_best_weight = model;    model_H2G2_best_weight.set_weights(H2G2_best_weight)\n",
    "    model_last_weight      = model;    model_last_weight.set_weights(last_weight)\n",
    "\n",
    "    model_H_best_weight   .save(f'{path}/model_H_best_weight.keras')\n",
    "    model_G_best_weight   .save(f'{path}/model_G_best_weight.keras')\n",
    "    model_H2G2_best_weight.save(f'{path}/model_H2G2_best_weight.keras')\n",
    "    model_last_weight     .save(f'{path}/model_last_weight.keras')"
   ]
  },
  {
   "cell_type": "code",
   "execution_count": 8,
   "id": "05ea52da",
   "metadata": {},
   "outputs": [
    {
     "name": "stdout",
     "output_type": "stream",
     "text": [
      "WARNING:tensorflow:From d:\\Applications\\Anaconda3\\Lib\\site-packages\\keras\\src\\backend\\common\\global_state.py:82: The name tf.reset_default_graph is deprecated. Please use tf.compat.v1.reset_default_graph instead.\n",
      "\n",
      "Step: 6, Epsilon: 0.988, H: -109378.58, Giant: 15.0, Min(Hamilton): 0.00, Max(Giant): 0.0"
     ]
    },
    {
     "name": "stderr",
     "output_type": "stream",
     "text": [
      "c:\\Users\\Mehdi\\Desktop\\Desktop\\code\\project\\Agent_Library.py:112: RuntimeWarning: overflow encountered in exp\n",
      "  if np.exp(-delta_H/4) < np.random.random():     # delta_H < 0 --> f(x) > 1;\n"
     ]
    },
    {
     "name": "stdout",
     "output_type": "stream",
     "text": [
      "Step: 1000, Epsilon: 0.000, H: -213415.41, Giant: 100.0, Min(Hamilton): -215471.09, Max(Giant): 100.0"
     ]
    },
    {
     "data": {
      "text/plain": [
       "<Figure size 1500x1500 with 0 Axes>"
      ]
     },
     "metadata": {},
     "output_type": "display_data"
    }
   ],
   "source": [
    "N = 100                      # Number of agents\n",
    "L = 45                       # The length of the simulation box\n",
    "Alphas = [-0.5, +0.3, 1.0, -1000]\n",
    "camera, environment, Agents, AveragedExcel, AveragedExcel_, ParticleExcel, ParticleExcel_ = Learning_Initializer(N, L, Alphas)\n",
    "\n",
    "best_H, best_G, best_H2G2 = 0, 0, 0\n",
    "H_best_weight, G_best_weight, H2G2_best_weight = 0, 0, 0\n",
    "\n",
    "\n",
    "# -----------------------------------------------------------------------------------------------\n",
    "for step in range(1001):\n",
    "    \n",
    "    epsilon = max(1 - step/500, 0.0)             # first is more random and than use greedy\n",
    "    for _ in range(10):\n",
    "    # Like play_one_step function ---------------------------------------------------------------\n",
    "        for i in range(len(Agents)):\n",
    "\n",
    "            if np.random.rand() < epsilon:\n",
    "                state  = [s+1 for s in Agents[i].MyState()]\n",
    "                action = np.random.randint(2)\n",
    "                STEP   = Agents[i].step((action-0.5)*2)\n",
    "                reward = STEP[1]\n",
    "                next_state = [ns+1 for ns in STEP[0]]\n",
    "\n",
    "                Agents[i].replay_memory.append((state, action, reward, next_state))\n",
    "\n",
    "            else: \n",
    "                Agents[i].Prediction( (Agents[:i] + Agents[i+1:]) )\n",
    "\n",
    "\n",
    "    # Result Section ----------------------------------------------------------------------------       \n",
    "    ExportResults(step, environment, Agents, AveragedExcel_, ParticleExcel_)\n",
    "    hamilton, edge, energy, average_r, giant, tau = environment.Calculate_Result(Agents, step)\n",
    "\n",
    "    # Find Best Weights -------------------------------------------------------------------------     \n",
    "    if step > 500:\n",
    "        if hamilton <= best_H:                                  # find the minimum of Hamiltonian\n",
    "            H_best_weight    = Agents[0].model.get_weights()    # saving model weights for the best Hamiltonian\n",
    "            best_H = hamilton\n",
    "\n",
    "        if giant >= best_G:\n",
    "            G_best_weight    = Agents[0].model.get_weights()    # saving model weights for the best Giant Component\n",
    "            best_G = giant\n",
    "\n",
    "        if np.sqrt(hamilton**2 + giant**2) >= best_H2G2:\n",
    "            H2G2_best_weight = Agents[0].model.get_weights()\n",
    "            best_H2G2 = np.sqrt(hamilton**2 + giant**2)\n",
    "\n",
    "\n",
    "\n",
    "    # Train Section -----------------------------------------------------------------------------\n",
    "    if step > 50:\n",
    "        for i in range(N):\n",
    "            Agents[i].Train(batch_size=20, learning_rate=1e-5)\n",
    "            if i != N-1: Agents[i+1].model = Agents[i].model\n",
    "\n",
    "        for i in range(N-1): Agents[i].model = Agents[N-1].model\n",
    "\n",
    "\n",
    "    print(\"\\rStep: {}, Epsilon: {:.3f}, H: {:.2f}, Giant: {:.1f}, Min(Hamilton): {:.2f}, Max(Giant): {:.1f}\"\n",
    "          .format(step, epsilon, hamilton, giant, best_H, best_G), end=\"\")\n",
    "\n",
    "last_weight = Agents[0].model.get_weights()\n",
    "\n",
    "\n",
    "# Save ------------------------------------------------------------------------------------------\n",
    "path = \"./All result/models with alpha4 = -1000/L=45\"\n",
    "Saving(path, ParticleExcel, AveragedExcel , H_best_weight, G_best_weight, H2G2_best_weight, last_weight, Agents[0].custom_activation)\n"
   ]
  },
  {
   "cell_type": "markdown",
   "id": "8529c90c",
   "metadata": {},
   "source": [
    "# Make Animation"
   ]
  },
  {
   "cell_type": "code",
   "execution_count": 10,
   "id": "1e23c71c",
   "metadata": {},
   "outputs": [
    {
     "name": "stderr",
     "output_type": "stream",
     "text": [
      "d:\\Applications\\Anaconda3\\Lib\\site-packages\\networkx\\drawing\\nx_pylab.py:450: UserWarning: *c* argument looks like a single numeric RGB or RGBA sequence, which should be avoided as value-mapping will have precedence in case its length matches with *x* & *y*.  Please use the *color* keyword-argument or provide a 2D array with a single row if you intend to specify the same RGB or RGBA value for all points.\n",
      "  node_collection = ax.scatter(\n",
      "MovieWriter ffmpeg unavailable; using Pillow instead.\n"
     ]
    },
    {
     "name": "stdout",
     "output_type": "stream",
     "text": [
      "\n"
     ]
    }
   ],
   "source": [
    "import ast\n",
    "N = 100\n",
    "L = 45\n",
    "\n",
    "        \n",
    "result = pd.read_excel(f\"./All result/Different Model Training/models with alpha4 = -1000/L=45/Particle Data -1000 L=45.xlsx\", sheet_name='Learning')\n",
    "fig = plt.figure(figsize=(14,14))\n",
    "fig.subplots_adjust(left=0.05, bottom=0.05, right=0.95, top=0.95, wspace=None, hspace=None)\n",
    "camera = Camera(fig)\n",
    "\n",
    "for step in range(1001):\n",
    "    df = result[\"connected to\"][step*N:(step+1)*N].apply(lambda cell: ast.literal_eval(cell))        # string to list\n",
    "\n",
    "    A = np.zeros((N, N))\n",
    "    for i in range(N):\n",
    "        for l in df[step*N + i]:\n",
    "            A[i][l] = 1\n",
    "\n",
    "    # Ploting -------------------------------------------------------------------------------\n",
    "    if step%5==0:\n",
    "        G = nx.from_numpy_array(A)\n",
    "\n",
    "        options = { 'node_size': 60, 'width': 1.5, 'node_color': (0.5,0.0,0.8,1) }\n",
    "        for i in range(N): G.add_node(i, pos=(result[\"X\"][step*N+i], result[\"Y\"][step*N+i]))\n",
    "        pos = nx.get_node_attributes(G, 'pos')\n",
    "        poss = dict( (i, ( result[\"X\"][step*N+i]+0.2, result[\"Y\"][step*N+i]+0.1 )) for i in range(N))\n",
    "        nx.draw_networkx_labels(G, poss, font_size=10.5, font_weight='bold', font_color='k')\n",
    "\n",
    "        nx.draw_networkx(G, pos, with_labels=False, **options)\n",
    "\n",
    "        plt.text(L-0.1*L, L+0.5, f'Episode {step}', fontname='Comic Sans MS', fontsize=13)\n",
    "        plt.tick_params(left=True, bottom=True, labelleft=True, labelbottom=True)\n",
    "        plt.xlim(-0.3, L+0.3); plt.ylim(-0.3, L+0.3)\n",
    "        plt.grid(alpha=0.3)\n",
    "        \n",
    "        camera.snap()\n",
    "\n",
    "anim = camera.animate(interval= 120, repeat=True, repeat_delay= 500, blit=True)\n",
    "anim.save(f'./All result/Different Model Training/models with alpha4 = -1000/L=45/Animation - Training.gif')\n",
    "print()\n",
    "\n",
    "del result\n",
    "plt.close(fig)"
   ]
  },
  {
   "cell_type": "code",
   "execution_count": null,
   "id": "94a7c586",
   "metadata": {},
   "outputs": [
    {
     "ename": "SyntaxError",
     "evalue": "incomplete input (4155730282.py, line 49)",
     "output_type": "error",
     "traceback": [
      "\u001b[1;36m  Cell \u001b[1;32mIn[28], line 49\u001b[1;36m\u001b[0m\n\u001b[1;33m    plt.close(fig)\\\u001b[0m\n\u001b[1;37m                   ^\u001b[0m\n\u001b[1;31mSyntaxError\u001b[0m\u001b[1;31m:\u001b[0m incomplete input\n"
     ]
    }
   ],
   "source": [
    "import ast\n",
    "N = 100\n",
    "L = 14\n",
    "\n",
    "sheets = ['Just Model', 'Send Request']\n",
    "for seed in range(30,31):\n",
    "    for sheet in sheets:\n",
    "        \n",
    "        result = pd.read_excel(f\"./datas/data {seed}/{seed} Particle Data - Movement & Train.xlsx\", sheet_name=sheet)\n",
    "\n",
    "        fig = plt.figure(figsize=(14,14))\n",
    "        fig.subplots_adjust(left=0.05, bottom=0.05, right=0.95, top=0.95, wspace=None, hspace=None)\n",
    "        camera = Camera(fig)\n",
    "\n",
    "        for step in range(1001):\n",
    "            df = result[\"connected to\"][step*N:(step+1)*N].apply(lambda cell: ast.literal_eval(cell))        # string to list\n",
    "\n",
    "            A = np.zeros((N, N))\n",
    "            for i in range(N):\n",
    "                for l in df[step*N + i]:\n",
    "                    A[i][l] = 1\n",
    "\n",
    "            # Ploting -------------------------------------------------------------------------------\n",
    "            if step%5==0:\n",
    "                G = nx.from_numpy_array(A)\n",
    "\n",
    "                options = { 'node_size': 60, 'width': 1.5, 'node_color': (0.5,0.0,0.8,1) }\n",
    "                for i in range(N): G.add_node(i, pos=(result[\"X\"][step*N+i], result[\"Y\"][step*N+i]))\n",
    "                pos = nx.get_node_attributes(G, 'pos')\n",
    "                poss = dict( (i, ( result[\"X\"][step*N+i]+0.2, result[\"Y\"][step*N+i]+0.1 )) for i in range(N))\n",
    "                nx.draw_networkx_labels(G, poss, font_size=10.5, font_weight='bold', font_color='k')\n",
    "\n",
    "                nx.draw_networkx(G, pos, with_labels=False, **options)\n",
    "\n",
    "                plt.text(L-0.1*L, L+0.5, f'Episode {step}', fontname='Comic Sans MS', fontsize=13)\n",
    "                plt.tick_params(left=True, bottom=True, labelleft=True, labelbottom=True)\n",
    "                plt.xlim(-0.3, L+0.3); plt.ylim(-0.3, L+0.3)\n",
    "                plt.grid(alpha=0.3)\n",
    "                \n",
    "                camera.snap()\n",
    "\n",
    "            print(\"\\rSeed: {}, Sheep: {}\".format(seed, sheet), end=\"\")\n",
    "\n",
    "        anim = camera.animate(interval= 120, repeat=True, repeat_delay= 500, blit=True)\n",
    "        anim.save(f'./datas/data {seed}/{seed} Animation - Movement & Train -- {sheet}.gif')\n",
    "        print()\n",
    "\n",
    "        del result\n",
    "        plt.close(fig)"
   ]
  },
  {
   "cell_type": "markdown",
   "id": "42926018",
   "metadata": {},
   "source": [
    "# Test"
   ]
  },
  {
   "cell_type": "code",
   "execution_count": null,
   "id": "682e9107",
   "metadata": {},
   "outputs": [],
   "source": [
    "# with cProfile.Profile() as profile: main()\n",
    "# stats = pstats.Stats(profile).sort_stats('cumtime')\n",
    "# stats.dump_stats(\"./All result/cProFile/cProFile.prof\")\n",
    "\n",
    "# stats.print_stats()\n",
    "# cli.main([\"./All result/cProFile/cProFile.prof\"])"
   ]
  },
  {
   "cell_type": "code",
   "execution_count": null,
   "id": "869ed83e",
   "metadata": {},
   "outputs": [],
   "source": [
    "result = pd.read_excel(f\"./All result/models with alpha4 = -1000/Log Data.xlsx\", sheet_name='Learning')\n",
    "\n",
    "# --------------------------------------------------------------------------\n",
    "LOSS = []\n",
    "for i in range(750): LOSS.append(sum(result['loss'][i*100:(i+1)*100])/100.)\n",
    "\n",
    "plt.plot(np.linspace(51,800,750) , LOSS)\n",
    "plt.grid(alpha = 0.3)\n",
    "plt.show()\n",
    "\n",
    "# --------------------------------------------------------------------------\n",
    "los = (pd.DataFrame(LOSS))\n",
    "los.to_csv(\"loss.csv\")"
   ]
  },
  {
   "cell_type": "code",
   "execution_count": 55,
   "id": "1a164135",
   "metadata": {},
   "outputs": [
    {
     "name": "stdout",
     "output_type": "stream",
     "text": [
      "tf.Tensor(0.0, shape=(), dtype=float32)\n"
     ]
    },
    {
     "data": {
      "image/png": "[encoded data removed]",
      "text/plain": [
       "<Figure size 640x480 with 1 Axes>"
      ]
     },
     "metadata": {},
     "output_type": "display_data"
    }
   ],
   "source": [
    "N = 100                      # Number of agents\n",
    "L = 14                       # The length of the simulation box\n",
    "# camera, environment, Agents, Hamilton, Giant, Edges, Energy, R_avg, Tau = Initializer(N, L, 30)\n",
    "\n",
    "def custom_activation(x):\n",
    "    xx = (tf.keras.backend.softplus(x))**0.5\n",
    "    return -tf.keras.backend.elu(-xx + 100) + 100\n",
    "\n",
    "print(custom_activation(-40.))\n",
    "\n",
    "X = np.linspace(-10,10,1000)\n",
    "Y = custom_activation(X)\n",
    "\n",
    "plt.plot(X,Y)\n",
    "plt.grid(alpha=0.3)\n",
    "plt.show()\n"
   ]
  }
 ],
 "metadata": {
  "kernelspec": {
   "display_name": "base",
   "language": "python",
   "name": "python3"
  },
  "language_info": {
   "codemirror_mode": {
    "name": "ipython",
    "version": 3
   },
   "file_extension": ".py",
   "mimetype": "text/x-python",
   "name": "python",
   "nbconvert_exporter": "python",
   "pygments_lexer": "ipython3",
   "version": "3.12.7"
  }
 },
 "nbformat": 4,
 "nbformat_minor": 5
}
