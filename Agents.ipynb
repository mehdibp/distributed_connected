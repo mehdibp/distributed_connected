{
 "cells": [
  {
   "cell_type": "code",
   "execution_count": 1,
   "id": "49594bcf",
   "metadata": {},
   "outputs": [
    {
     "name": "stdout",
     "output_type": "stream",
     "text": [
      "WARNING:tensorflow:From e:\\Anaconda\\Lib\\site-packages\\keras\\src\\losses.py:2976: The name tf.losses.sparse_softmax_cross_entropy is deprecated. Please use tf.compat.v1.losses.sparse_softmax_cross_entropy instead.\n",
      "\n"
     ]
    }
   ],
   "source": [
    "import Agent_Library\n",
    "from   Agent_Library import np, plt, Camera\n",
    "\n",
    "import pandas as pd\n",
    "\n",
    "import importlib\n",
    "# import psutil\n",
    "# import cProfile, pstats\n",
    "# import snakeviz.cli as cli\n",
    "# %load_ext snakeviz"
   ]
  },
  {
   "cell_type": "code",
   "execution_count": 2,
   "id": "ce9e8e6b",
   "metadata": {},
   "outputs": [],
   "source": [
    "def Initializer(N, L):\n",
    "    importlib.reload(Agent_Library)\n",
    "    np.random.seed(41)\n",
    "    # -----------------------------------------------------------------------------------\n",
    "    camera = Camera(plt.figure(figsize=(15,15)))\n",
    "\n",
    "    # Build the environment and the agents ----------------------------------------------\n",
    "    Agents, states = [], []\n",
    "    for _ in range(N): \n",
    "        Agents.append(Agent_Library.Distributed_Agent(L, flipping=True, moving=False, training=False))\n",
    "        states.append([ 1, 1, 1 ])\n",
    "    \n",
    "    environment = Agent_Library.Plot_Environment(L, Agents)\n",
    "    \n",
    "    # Parameters displayed in plots -----------------------------------------------------\n",
    "    Hamilton = []               # To display the Hamiltonian value per episede\n",
    "    Giant  = []                 # To display the percentage of members of the giant component \n",
    "    Edges  = []                 # To display the number of links in the network\n",
    "    Energy = []                 # To display the amount of energy consumed by all agents\n",
    "    Tau    = []                 # To show the stability of links\n",
    "    \n",
    "    return camera, environment, Agents, states,  Hamilton, Giant, Edges, Energy, Tau"
   ]
  },
  {
   "cell_type": "code",
   "execution_count": null,
   "id": "9fe2de33",
   "metadata": {},
   "outputs": [],
   "source": [
    "N = 8                      # Number of agents\n",
    "L = 6                       # The length of the simulation box\n",
    "camera, environment, Agents, states, Hamilton, Giant, Edges, Energy, Tau = Initializer(N, L)\n",
    "\n",
    "\n",
    "for episode in range(50):\n",
    "    for i in range(len(Agents)):\n",
    "        states[i] = Agents[i].Prediction(states[i], (Agents[:i] + Agents[i+1:]))\n",
    "\n",
    "    # ---------------------------------------------------------------------------------------\n",
    "    # delta_HD = []\n",
    "    # for i in range(N-1):\n",
    "    #     distance = ( (Agents[0].x - Agents[0].OtherAgents[i].x)**2 + (Agents[0].y-Agents[0].OtherAgents[i].y)**2 )**0.5\n",
    "    #     if distance <= Agents[0].OtherAgents[i].r and distance > Agents[0].r:\n",
    "    #         delta_H = -0.5*((Agents[0].k+1)**2 - Agents[0].k**2) + 0.1*((Agents[0].k+1)**3 - Agents[0].k**3) + 0.2*(distance**2 - Agents[0].r**2) - 0.5*(1/distance)\n",
    "    #         delta_HD.append([ delta_H, distance ])\n",
    "    #         if np.exp(-delta_HD[np.argmin(np.array(delta_HD)[:,0])][0] / 4) > np.random.random():\n",
    "    #             Agents[0].r = delta_HD[np.argmin(np.array(delta_HD)[:,0])][1]\n",
    "    #             print(\"\\n\", i+1, delta_HD[np.argmin(np.array(delta_HD)[:,0])][1], delta_HD)\n",
    "\n",
    "    # Show Results --------------------------------------------------------------------------\n",
    "    hamilton, edge, energy, giant, tau = environment.Calculate_Result(Agents, episode)\n",
    "    Hamilton.append(hamilton)\n",
    "    Edges.append(edge)\n",
    "    Energy.append(energy)\n",
    "    Giant.append(giant)\n",
    "    Tau.append(tau)\n",
    "\n",
    "    if episode%1 == 0: environment.Animation(camera, episode)\n",
    "\n",
    "    # cpu_percent = psutil.cpu_percent(interval=1, percpu=True)\n",
    "    print(\"\\rEpisode: {}, H: {:.3f}, Giant: {:.2f}, N: {:.1f}\".format(episode, hamilton, giant, environment.N), end=\"\")\n",
    "\n",
    "anim = camera.animate(interval= 420, repeat=True, repeat_delay= 500, blit=True)\n",
    "anim.save('./All result/animation.gif')\n",
    "\n",
    "#-------------------------------------------------------------------------------\n",
    "print(\"\\n\\n\", np.average(Hamilton))\n",
    "environment.Static_Plot(episode, Hamilton, Edges, Energy, Giant, Tau[10:])\n",
    "\n",
    "#-------------------------------------------------------------------------------\n",
    "df = pd.DataFrame({'Hamilton': Hamilton, 'Giant': Giant, 'Edges': Edges, 'Energy': Energy, 'Tau': Tau})\n",
    "df.to_csv('./All result/csv/Results.csv')\n",
    "\n"
   ]
  },
  {
   "cell_type": "code",
   "execution_count": null,
   "id": "682e9107",
   "metadata": {},
   "outputs": [],
   "source": [
    "# with cProfile.Profile() as profile: main()\n",
    "# stats = pstats.Stats(profile).sort_stats('cumtime')\n",
    "# stats.dump_stats(\"./All result/cProFile/cProFile.prof\")\n",
    "\n",
    "# stats.print_stats()\n",
    "# cli.main([\"./All result/cProFile/cProFile.prof\"])"
   ]
  },
  {
   "cell_type": "code",
   "execution_count": null,
   "id": "77221e92",
   "metadata": {},
   "outputs": [],
   "source": []
  },
  {
   "cell_type": "code",
   "execution_count": null,
   "id": "02f26f11",
   "metadata": {},
   "outputs": [],
   "source": []
  },
  {
   "cell_type": "code",
   "execution_count": null,
   "id": "503cc772",
   "metadata": {},
   "outputs": [],
   "source": []
  }
 ],
 "metadata": {
  "kernelspec": {
   "display_name": "Python 3 (ipykernel)",
   "language": "python",
   "name": "python3"
  },
  "language_info": {
   "codemirror_mode": {
    "name": "ipython",
    "version": 3
   },
   "file_extension": ".py",
   "mimetype": "text/x-python",
   "name": "python",
   "nbconvert_exporter": "python",
   "pygments_lexer": "ipython3",
   "version": "3.11.5"
  }
 },
 "nbformat": 4,
 "nbformat_minor": 5
}
